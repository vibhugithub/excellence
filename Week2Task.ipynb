{
  "nbformat": 4,
  "nbformat_minor": 0,
  "metadata": {
    "colab": {
      "name": "Week2Task.ipynb",
      "provenance": [],
      "collapsed_sections": [],
      "authorship_tag": "ABX9TyOCUcFVRLoepiWd+EfEnGDA",
      "include_colab_link": true
    },
    "kernelspec": {
      "name": "python3",
      "display_name": "Python 3"
    },
    "language_info": {
      "name": "python"
    }
  },
  "cells": [
    {
      "cell_type": "markdown",
      "metadata": {
        "id": "view-in-github",
        "colab_type": "text"
      },
      "source": [
        "<a href=\"https://colab.research.google.com/github/vibhugithub/excellence/blob/main/Week2Task.ipynb\" target=\"_parent\"><img src=\"https://colab.research.google.com/assets/colab-badge.svg\" alt=\"Open In Colab\"/></a>"
      ]
    },
    {
      "cell_type": "markdown",
      "metadata": {
        "id": "pnY8t9Ag_lXd"
      },
      "source": [
        "**Define**"
      ]
    },
    {
      "cell_type": "markdown",
      "metadata": {
        "id": "wyGKbij3WTx-"
      },
      "source": [
        "Dictionary: Dictionary is a most efficient data structure and used to store the large amount of data. It is an ordered collection of data values, mutuable and used to store data values in key: value pairs. Each value is stored corresponding to its key. key must be a unique and value can be any type such as list,integer etc. It does not allow duplicates."
      ]
    },
    {
      "cell_type": "code",
      "metadata": {
        "id": "32uEsgAoYPfM"
      },
      "source": [
        "dict = {\n",
        "    \"Name\": \"Neha\",\n",
        "    \"Age\": \"25\"\n",
        "}\n",
        "print(dict)"
      ],
      "execution_count": null,
      "outputs": []
    },
    {
      "cell_type": "markdown",
      "metadata": {
        "id": "OiThpQILY_IR"
      },
      "source": [
        "List: list are ordered, mutuable and allow duplicates values. list items can be of any data type. The items of lists are enclosed within the square bracket'[ ]' and separated by the comma."
      ]
    },
    {
      "cell_type": "code",
      "metadata": {
        "id": "yZgxZGYLbRtK"
      },
      "source": [
        "list = [12, True, \"hello\", 9, \"apple\", 12]\n",
        "print(list)"
      ],
      "execution_count": null,
      "outputs": []
    },
    {
      "cell_type": "markdown",
      "metadata": {
        "id": "vFRWJQOYcGuZ"
      },
      "source": [
        "Tuples: Tuples are a data structure that store an ordered sequence of values. Tuples are immutable and allow duplicate values. It represented by paranthesis '( )'."
      ]
    },
    {
      "cell_type": "code",
      "metadata": {
        "id": "Z0MmJgeQd2Ux"
      },
      "source": [
        "tuple = (\"chocolate\", \"cherry\", \"apple\", \"cherry\")\n",
        "print(tuple)"
      ],
      "execution_count": null,
      "outputs": []
    },
    {
      "cell_type": "markdown",
      "metadata": {
        "id": "nC49C7QMfI7_"
      },
      "source": [
        "Set: Sets are unordered collection data types that is iterable. Each element in set must be unique. Sets are mutuable which means we can modify anytime thoughout the program. It represented in curly brackets'{ }'."
      ]
    },
    {
      "cell_type": "code",
      "metadata": {
        "id": "-hA3-Wknf1FN"
      },
      "source": [
        "set = {\"a\",\"b\",\"c\"}\n",
        "print(set)"
      ],
      "execution_count": null,
      "outputs": []
    },
    {
      "cell_type": "markdown",
      "metadata": {
        "id": "J2LlQBinjQ2m"
      },
      "source": [
        "**Read CSV File**\n",
        "\n",
        "A CSV file (Comma Separated Values file) is a type of plain text file that uses specific structuring to arrange tabular data. Because it’s a plain text file, it can contain only actual text data.\n",
        "\n",
        "Reading from a CSV file is done using the reader object. The CSV file is opened as a text file with Python’s built-in open() function, which returns a file object. This is then passed to the reader, which does the heavy lifting.\n",
        "\n"
      ]
    },
    {
      "cell_type": "code",
      "metadata": {
        "id": "DmIjTGsS8gXs"
      },
      "source": [
        "from google.colab import files"
      ],
      "execution_count": null,
      "outputs": []
    },
    {
      "cell_type": "code",
      "metadata": {
        "id": "3LPFDly-SIh5"
      },
      "source": [
        "import pandas as pd\n"
      ],
      "execution_count": null,
      "outputs": []
    },
    {
      "cell_type": "code",
      "metadata": {
        "id": "bgFwbSXMSerN",
        "colab": {
          "base_uri": "https://localhost:8080/"
        },
        "outputId": "b18acb72-fdb2-462f-c1c9-e246646e721a"
      },
      "source": [
        "datafile = pd.read_csv('company_sales_data.csv')\n",
        "print(datafile)"
      ],
      "execution_count": 143,
      "outputs": [
        {
          "output_type": "stream",
          "text": [
            "    month_number  facecream  facewash  ...  moisturizer  total_units  total_profit\n",
            "0              1       2500      1500  ...         1500        21100        211000\n",
            "1              2       2630      1200  ...         1200        18330        183300\n",
            "2              3       2140      1340  ...         1340        22470        224700\n",
            "3              4       3400      1130  ...         1130        22270        222700\n",
            "4              5       3600      1740  ...         1740        20960        209600\n",
            "5              6       2760      1555  ...         1555        20140        201400\n",
            "6              7       2980      1120  ...         1120        29550        295500\n",
            "7              8       3700      1400  ...         1400        36140        361400\n",
            "8              9       3540      1780  ...         1780        23400        234000\n",
            "9             10       1990      1890  ...         1890        26670        266700\n",
            "10            11       2340      2100  ...         2100        41280        412800\n",
            "11            12       2900      1760  ...         1760        30020        300200\n",
            "\n",
            "[12 rows x 9 columns]\n"
          ],
          "name": "stdout"
        }
      ]
    },
    {
      "cell_type": "markdown",
      "metadata": {
        "id": "qXt5p1AJDLmy"
      },
      "source": [
        "**Numpy** "
      ]
    },
    {
      "cell_type": "code",
      "metadata": {
        "id": "CxvKqJuZk093"
      },
      "source": [
        "import numpy as np"
      ],
      "execution_count": null,
      "outputs": []
    },
    {
      "cell_type": "markdown",
      "metadata": {
        "id": "Ld30q1m5_3fk"
      },
      "source": [
        "**Create an array of 10 fives**"
      ]
    },
    {
      "cell_type": "code",
      "metadata": {
        "id": "sYy63OaAACe0"
      },
      "source": [
        "array = np.ones(10)*5\n",
        "print(array)"
      ],
      "execution_count": null,
      "outputs": []
    },
    {
      "cell_type": "markdown",
      "metadata": {
        "id": "uJGuMUiDAJYG"
      },
      "source": [
        "**Create an array of all even integers between 10 to 50**"
      ]
    },
    {
      "cell_type": "code",
      "metadata": {
        "id": "-3GmcXPnAPMP"
      },
      "source": [
        "arr = np.arange(10,51,2)\n",
        "print(\"Array of all the even integers from 10 to 50:\", arr)"
      ],
      "execution_count": null,
      "outputs": []
    },
    {
      "cell_type": "markdown",
      "metadata": {
        "id": "ZBZc0NDoA_v6"
      },
      "source": [
        "**Create a 4*4 matrix**"
      ]
    },
    {
      "cell_type": "code",
      "metadata": {
        "id": "M2iCfcnkBETn"
      },
      "source": [
        "x = np.zeros((4, 4))\n",
        "x[::2, 1::2] = 1\n",
        "x[1::2, ::2] = 1\n",
        "print(x)"
      ],
      "execution_count": null,
      "outputs": []
    },
    {
      "cell_type": "markdown",
      "metadata": {
        "id": "bNDIoYLmBIae"
      },
      "source": [
        "**Use numpy to generate an array of 25 random numbers sampled from a standard normal distribution**\n"
      ]
    },
    {
      "cell_type": "code",
      "metadata": {
        "id": "JtT84cz7BWlI"
      },
      "source": [
        "rand_num = np.random.normal(0,1,25)\n",
        "print(\"25 random numbers from a standard normal distribution:\")\n",
        "print(rand_num)"
      ],
      "execution_count": null,
      "outputs": []
    },
    {
      "cell_type": "markdown",
      "metadata": {
        "id": "pTmFv4FzBjq6"
      },
      "source": [
        "**Matrix**\n",
        "\n",
        "([[ 1 2 3 4 5 ] \n",
        "[ 6 7 8 9 10]\n",
        "[11 12 13 14 15]\n",
        "[16 17 18 19 20]\n",
        "[ 21 22 23 24 25]])\n",
        "**Output the given matrix using numpy**\n"
      ]
    },
    {
      "cell_type": "code",
      "metadata": {
        "id": "OfqPNXH-Bxw9"
      },
      "source": [
        "nums = np.arange(1,26).reshape(5,5)\n",
        "print(nums)"
      ],
      "execution_count": null,
      "outputs": []
    },
    {
      "cell_type": "markdown",
      "metadata": {
        "id": "6Q33US2yB-MH"
      },
      "source": [
        "**By referring the above matrix output given matrix : ([[ 12 13 14 15]\n",
        "17 18 19 20]\n",
        "22 23 24 25 ]])**"
      ]
    },
    {
      "cell_type": "code",
      "metadata": {
        "id": "cMMRD_SYCKpm"
      },
      "source": [
        "nums[2:,1:]"
      ],
      "execution_count": null,
      "outputs": []
    },
    {
      "cell_type": "markdown",
      "metadata": {
        "id": "bw1Q3ctNCjeh"
      },
      "source": [
        "**Grab number ‘20’ from the matrix**"
      ]
    },
    {
      "cell_type": "code",
      "metadata": {
        "id": "F4WWM-UKCm-a"
      },
      "source": [
        "nums[3][4]"
      ],
      "execution_count": null,
      "outputs": []
    },
    {
      "cell_type": "markdown",
      "metadata": {
        "id": "Lj9GgiX0CpWS"
      },
      "source": [
        "**Output this array ([[ 2 ][ 7 ][12 ]])**\n",
        "\n",
        "\n"
      ]
    },
    {
      "cell_type": "code",
      "metadata": {
        "id": "qofi78N_C5ZR"
      },
      "source": [
        "nums[0:3,1].reshape(3,1)"
      ],
      "execution_count": null,
      "outputs": []
    },
    {
      "cell_type": "markdown",
      "metadata": {
        "id": "ZH0EXo57C7-O"
      },
      "source": [
        "**Get the standard derivation of the values in the matrix**"
      ]
    },
    {
      "cell_type": "code",
      "metadata": {
        "id": "cGoIiNpcDA0y"
      },
      "source": [
        "np.std(nums)"
      ],
      "execution_count": null,
      "outputs": []
    },
    {
      "cell_type": "markdown",
      "metadata": {
        "id": "y30r0kPsDBOU"
      },
      "source": [
        "**Get the sum of all columns in the matrix.**\n"
      ]
    },
    {
      "cell_type": "code",
      "metadata": {
        "id": "4xrylGDTDINE"
      },
      "source": [
        "nums.sum(axis=0)"
      ],
      "execution_count": null,
      "outputs": []
    },
    {
      "cell_type": "markdown",
      "metadata": {
        "id": "I-6YhTKRTX9c"
      },
      "source": [
        "**Pandas**"
      ]
    },
    {
      "cell_type": "markdown",
      "metadata": {
        "id": "T0fk6jCpTiKI"
      },
      "source": [
        "**Import pandas and check the version**"
      ]
    },
    {
      "cell_type": "code",
      "metadata": {
        "id": "rYVEBLP6Topk"
      },
      "source": [
        "import pandas as pd\n",
        "\n",
        "print(pd.show_versions())"
      ],
      "execution_count": null,
      "outputs": []
    },
    {
      "cell_type": "markdown",
      "metadata": {
        "id": "8PtawHHNT9b7"
      },
      "source": [
        "**Create a series from a list, numpy array and dict**\n",
        "\n",
        "input:\n",
        "\n",
        "import numpy as np\n",
        "\n",
        "mylist = list('abcedfghijklmnopqrstuvwxyz')\n",
        "\n",
        "myarr = np.arange(26)\n",
        "\n",
        "mydict = dict(zip(mylist, myarr))"
      ]
    },
    {
      "cell_type": "code",
      "metadata": {
        "id": "73svFUVWLfqP"
      },
      "source": [
        "mylist = list('abcedfghijklmnopqrstuvwxyz')\n",
        "myarr = np.arange(26)\n",
        "mydict = dict(zip(mylist, myarr))\n",
        "listt = pd.Series(mylist)\n",
        "arr = pd.Series(myarr)\n",
        "dictt = pd.Series(mydict)\n",
        "print(dictt.head())\n"
      ],
      "execution_count": null,
      "outputs": []
    },
    {
      "cell_type": "markdown",
      "metadata": {
        "id": "BLY9INFlZbMT"
      },
      "source": [
        "**Combine many series to form a dataframe**\n",
        "\n",
        "input:\n",
        "\n",
        "import numpy as np\n",
        "\n",
        "ser1 = pd.Series(list('abcedfghijklmnopqrstuvwxyz'))\n",
        "\n",
        "ser2 = pd.Series(np.arange(26))\n",
        "\n",
        "get the items not common to both series A and series B\n",
        "\n",
        "ser1 = pd.Series([1, 2, 3, 4, 5])\n",
        "\n",
        "ser2 = pd.Series([4, 5, 6, 7, 8])\n"
      ]
    },
    {
      "cell_type": "code",
      "metadata": {
        "id": "56CYYa1uZmWw"
      },
      "source": [
        "ser1 = pd.Series(list('abcedfghijklmnopqrstuvwxyz'))\n",
        "ser2 = pd.Series(np.arange(26))\n",
        "df = pd.concat([ser1, ser2], axis=1)\n",
        "df = pd.DataFrame({'col1': ser1, 'col2': ser2})\n",
        "print(df.head())"
      ],
      "execution_count": null,
      "outputs": []
    },
    {
      "cell_type": "code",
      "metadata": {
        "id": "iWplXRQmdT3s"
      },
      "source": [
        "ser1 = pd.Series([1, 2, 3, 4, 5])\n",
        "ser2 = pd.Series([4, 5, 6, 7, 8])\n",
        "union = pd.Series(np.union1d(ser1,ser2))\n",
        "intersect = pd.Series(np.intersect1d(ser1,ser2))\n",
        "notcommon = union[~union.isin(intersect)]\n",
        "print(notcommon)"
      ],
      "execution_count": null,
      "outputs": []
    },
    {
      "cell_type": "markdown",
      "metadata": {
        "id": "HIU6pvDLfPXm"
      },
      "source": [
        "**Get frequency counts of unique items of a series**\n",
        "\n",
        "input:\n",
        "\n",
        "ser = pd.Series(np.take(list('abcdefgh'), np.random.randint(8, size=30)))"
      ]
    },
    {
      "cell_type": "code",
      "metadata": {
        "id": "X63OvTHdfT_1"
      },
      "source": [
        "num_series = pd.Series(np.take(list('abcdefgh'), np.random.randint(8, size=30)))\n",
        "num_series.value_counts()"
      ],
      "execution_count": null,
      "outputs": []
    },
    {
      "cell_type": "markdown",
      "metadata": {
        "id": "DiobgW-5y7EF"
      },
      "source": [
        "**Stack two series vertically and horizontally**\n",
        "\n",
        "input:\n",
        "\n",
        "ser1 = pd.Series(range(5))\n",
        "\n",
        "ser2 = pd.Series(list('abcde'))"
      ]
    },
    {
      "cell_type": "code",
      "metadata": {
        "id": "8lNXzof1zHTb"
      },
      "source": [
        "ser1 = pd.Series(range(5))\n",
        "ser2 = pd.Series(list('abcde'))\n",
        "# Vertical\n",
        "ser1.append(ser2)\n",
        "#Horizontal\n",
        "res = pd.concat([ser1,ser2],axis=1)\n",
        "print(res)"
      ],
      "execution_count": null,
      "outputs": []
    },
    {
      "cell_type": "markdown",
      "metadata": {
        "id": "0rhsysIM1J6Y"
      },
      "source": [
        "**Convert a series of date-strings to a timeseries**\n",
        "\n",
        "input:\n",
        "\n",
        "ser = pd.Series(['01 Jan 2010', '02-02-2011', '20120303', '2013/04/04', '2014-05-05',\n",
        "'2015-06-06T12:20'])"
      ]
    },
    {
      "cell_type": "code",
      "metadata": {
        "id": "SZkD5lSX1eAn"
      },
      "source": [
        "ser = pd.Series(['01 Jan 2010', '02-02-2011', '20120303', '2013/04/04', '2014-05-05', '2015-06-06T12:20'])\n",
        "res = pd.to_datetime(ser)\n",
        "print(res)"
      ],
      "execution_count": null,
      "outputs": []
    },
    {
      "cell_type": "markdown",
      "metadata": {
        "id": "pVlApsY71-DC"
      },
      "source": [
        "**Compute the euclidean distance between two series**\n",
        "\n",
        "input:\n",
        "\n",
        "p = pd.Series([1, 2, 3, 4, 5, 6, 7, 8, 9, 10])\n",
        "\n",
        "q = pd.Series([10, 9, 8, 7, 6, 5, 4, 3, 2, 1])\n"
      ]
    },
    {
      "cell_type": "code",
      "metadata": {
        "id": "p9p21h2v2SwD"
      },
      "source": [
        "p = pd.Series([1, 2, 3, 4, 5, 6, 7, 8, 9, 10])\n",
        "q = pd.Series([10, 9, 8, 7, 6, 5, 4, 3, 2, 1])\n",
        "res = sum((p - q)**2)**.5\n",
        "print(res)"
      ],
      "execution_count": null,
      "outputs": []
    },
    {
      "cell_type": "markdown",
      "metadata": {
        "id": "QWm0PPBr2eKR"
      },
      "source": [
        "**Import only specific columns from a csv file(first and second)**\n",
        "\n",
        "\n",
        "\n"
      ]
    },
    {
      "cell_type": "code",
      "metadata": {
        "id": "8aQqvODa2jRr"
      },
      "source": [
        "res = pd.read_csv('company_sales_data.csv', usecols=['month_number', 'facecream'])\n",
        "print(res.head())"
      ],
      "execution_count": null,
      "outputs": []
    },
    {
      "cell_type": "markdown",
      "metadata": {
        "id": "dqGOUapv3rDA"
      },
      "source": [
        "**Use iloc(2 columns and 10 rows(any))**"
      ]
    },
    {
      "cell_type": "code",
      "metadata": {
        "id": "N_IIhTou36YM"
      },
      "source": [
        "data = pd.read_csv('company_sales_data.csv')\n",
        "print(data.iloc[0:10, 5:7])"
      ],
      "execution_count": null,
      "outputs": []
    },
    {
      "cell_type": "markdown",
      "metadata": {
        "id": "57CpE8D_4OBi"
      },
      "source": [
        "**Find out the unique values in each column.**"
      ]
    },
    {
      "cell_type": "code",
      "metadata": {
        "id": "vIFtMngt4RHZ"
      },
      "source": [
        "data = pd.read_csv('company_sales_data.csv')\n",
        "data['month_number'].unique()"
      ],
      "execution_count": null,
      "outputs": []
    },
    {
      "cell_type": "code",
      "metadata": {
        "id": "5-t5apF7VHgP"
      },
      "source": [
        "data['facecream'].unique()"
      ],
      "execution_count": null,
      "outputs": []
    },
    {
      "cell_type": "code",
      "metadata": {
        "id": "x7OUYCtcVMwe"
      },
      "source": [
        "data['facewash'].unique()"
      ],
      "execution_count": null,
      "outputs": []
    },
    {
      "cell_type": "code",
      "metadata": {
        "id": "X6VCfp4uVUSo"
      },
      "source": [
        "data['toothpaste'].unique()"
      ],
      "execution_count": null,
      "outputs": []
    },
    {
      "cell_type": "code",
      "metadata": {
        "id": "MMrwQBWhVXyp"
      },
      "source": [
        "data['bathingsoap'].unique()"
      ],
      "execution_count": null,
      "outputs": []
    },
    {
      "cell_type": "code",
      "metadata": {
        "id": "XP8cO3EwVdVZ"
      },
      "source": [
        "data['shampoo'].unique()"
      ],
      "execution_count": null,
      "outputs": []
    },
    {
      "cell_type": "code",
      "metadata": {
        "id": "lbuJJCIgVjNb"
      },
      "source": [
        "data['moisturizer'].unique()"
      ],
      "execution_count": null,
      "outputs": []
    },
    {
      "cell_type": "code",
      "metadata": {
        "id": "tIW_5PJpVo2s"
      },
      "source": [
        "data['total_units'].unique()"
      ],
      "execution_count": null,
      "outputs": []
    },
    {
      "cell_type": "code",
      "metadata": {
        "id": "LKkmYEmdVtE8"
      },
      "source": [
        "data['total_profit'].unique()"
      ],
      "execution_count": null,
      "outputs": []
    },
    {
      "cell_type": "markdown",
      "metadata": {
        "id": "pGy11lYk4R3h"
      },
      "source": [
        "**Check null values**"
      ]
    },
    {
      "cell_type": "code",
      "metadata": {
        "id": "adVNOdPwy_Pm"
      },
      "source": [
        "pd.isnull('shampoo')"
      ],
      "execution_count": null,
      "outputs": []
    },
    {
      "cell_type": "markdown",
      "metadata": {
        "id": "ijnYKsJr8MaX"
      },
      "source": [
        "**Read and print the first and last five rows of the dataframe.**"
      ]
    },
    {
      "cell_type": "code",
      "metadata": {
        "id": "zvq64KIA8SHK"
      },
      "source": [
        "print('First 5 rows')\n",
        "print(datafile.head())\n",
        "print('Last 5 rows')\n",
        "print(datafile.tail(5))\n"
      ],
      "execution_count": null,
      "outputs": []
    },
    {
      "cell_type": "markdown",
      "metadata": {
        "id": "BcAuRZcv9ZM8"
      },
      "source": [
        "**Seaborn**"
      ]
    },
    {
      "cell_type": "markdown",
      "metadata": {
        "id": "xrymgYN79ecL"
      },
      "source": [
        "**Plot Jointplot and visualise the data.**"
      ]
    },
    {
      "cell_type": "code",
      "metadata": {
        "id": "6c2yc6LChpbG"
      },
      "source": [
        "import seaborn as sb"
      ],
      "execution_count": null,
      "outputs": []
    },
    {
      "cell_type": "code",
      "metadata": {
        "id": "1CDRHd7G4xou"
      },
      "source": [
        "datafile = pd.read_csv('company_sales_data.csv') \n",
        "sb.jointplot(x='month_number',y='moisturizer', data=datafile, color='green',kind='reg')"
      ],
      "execution_count": null,
      "outputs": []
    },
    {
      "cell_type": "markdown",
      "metadata": {
        "id": "IMjr-GXf7pos"
      },
      "source": [
        "**Plot Distplot , make kde to false and make bins to 30**"
      ]
    },
    {
      "cell_type": "code",
      "metadata": {
        "id": "Nddo790V9uf4"
      },
      "source": [
        "d = sb.set_theme(style=\"darkgrid\")\n",
        "moisturizer=datafile['moisturizer'].dropna()\n",
        "sb.distplot(moisturizer,kde=False,bins=30,color='#9400D3')"
      ],
      "execution_count": null,
      "outputs": []
    },
    {
      "cell_type": "markdown",
      "metadata": {
        "id": "DTiZ6kM8EebH"
      },
      "source": [
        "**Plot Scatterplot , try adding hue in it.**"
      ]
    },
    {
      "cell_type": "code",
      "metadata": {
        "id": "QlizOJBbEkbB"
      },
      "source": [
        "axis = sb.scatterplot(x='shampoo',y='total_profit',hue='month_number',data=datafile,markers='o')"
      ],
      "execution_count": null,
      "outputs": []
    },
    {
      "cell_type": "markdown",
      "metadata": {
        "id": "w_zeSOBaHdKE"
      },
      "source": [
        "**Plot swarmplot and change color palette to ‘VIBGYOR**"
      ]
    },
    {
      "cell_type": "code",
      "metadata": {
        "id": "U5DLfF52HlEP"
      },
      "source": [
        "colors = [\"#9400D3\",'#4B0082','#0000FF','#00FF00','#FFFF00','#FF7F00','#FF0000']\n",
        "sb.set_palette(sb.color_palette(colors))\n",
        "d = sb.set_theme(style=\"whitegrid\")\n",
        "sb.swarmplot(x='month_number',y='total_profit',data=datafile)"
      ],
      "execution_count": null,
      "outputs": []
    },
    {
      "cell_type": "markdown",
      "metadata": {
        "id": "49LWpsdxMMSA"
      },
      "source": [
        "**Plot countplot and use hue parameter in it.**"
      ]
    },
    {
      "cell_type": "code",
      "metadata": {
        "id": "YqoQ1gfcMWkG"
      },
      "source": [
        "sb.countplot(x ='toothpaste', hue = \"month_number\", data = datafile)"
      ],
      "execution_count": null,
      "outputs": []
    },
    {
      "cell_type": "markdown",
      "metadata": {
        "id": "_CljTFp1M1Nx"
      },
      "source": [
        "**Correlate the data and plot Heatmap on it and change its color scale to any you like.**"
      ]
    },
    {
      "cell_type": "code",
      "metadata": {
        "id": "0WnsOqKCM71I"
      },
      "source": [
        "sb.heatmap(datafile.corr())"
      ],
      "execution_count": null,
      "outputs": []
    },
    {
      "cell_type": "markdown",
      "metadata": {
        "id": "HtmlYpFMNMAi"
      },
      "source": [
        "**Plot a facetgrid and use hue in it.**\n",
        "\n",
        "\n"
      ]
    },
    {
      "cell_type": "code",
      "metadata": {
        "id": "JMgzbEbnNN19",
        "colab": {
          "base_uri": "https://localhost:8080/",
          "height": 221
        },
        "outputId": "2c57d22c-fbff-4b61-b2d9-c6553a892a61"
      },
      "source": [
        "d = sb.set_theme(style=\"white\")\n",
        "g=sb.FacetGrid(data = datafile.head(), col=\"shampoo\",hue = \"total_units\")\n",
        "g.map(sb.histplot,'month_number')"
      ],
      "execution_count": null,
      "outputs": [
        {
          "output_type": "display_data",
          "data": {
            "image/png": "[encoded data removed]",
            "text/plain": [
              "<Figure size 1080x216 with 5 Axes>"
            ]
          },
          "metadata": {
            "tags": []
          }
        }
      ]
    },
    {
      "cell_type": "markdown",
      "metadata": {
        "id": "laLjfaP6NR4f"
      },
      "source": [
        "**Plot a pairplot.**"
      ]
    },
    {
      "cell_type": "code",
      "metadata": {
        "id": "0MPGOJEmNTYL",
        "colab": {
          "base_uri": "https://localhost:8080/",
          "height": 1000
        },
        "outputId": "ba46976a-a2b2-4dcf-fe34-c89d49f9a6a4"
      },
      "source": [
        "sb.pairplot(data = datafile)"
      ],
      "execution_count": 145,
      "outputs": [
        {
          "output_type": "execute_result",
          "data": {
            "text/plain": [
              "<seaborn.axisgrid.PairGrid at 0x7f369380e550>"
            ]
          },
          "metadata": {
            "tags": []
          },
          "execution_count": 145
        },
        {
          "output_type": "display_data",
          "data": {
            "image/png": "[encoded data removed]",
            "text/plain": [
              "<Figure size 1620x1620 with 90 Axes>"
            ]
          },
          "metadata": {
            "tags": []
          }
        }
      ]
    },
    {
      "cell_type": "markdown",
      "metadata": {
        "id": "rijwUZP0Zq9b"
      },
      "source": [
        "**Matplotlib**\n"
      ]
    },
    {
      "cell_type": "markdown",
      "metadata": {
        "id": "Nf1K5ydJZxTq"
      },
      "source": [
        "**Show the relationship between Total profit and no. of month using Line Plot.**"
      ]
    },
    {
      "cell_type": "code",
      "metadata": {
        "id": "kGf4MGxfPaR9"
      },
      "source": [
        "import matplotlib.pyplot as plt"
      ],
      "execution_count": null,
      "outputs": []
    },
    {
      "cell_type": "code",
      "metadata": {
        "id": "0BcnQ7lbZ9z_"
      },
      "source": [
        "table = pd.read_csv('company_sales_data.csv') \n",
        "profit = table ['total_profit'].tolist()\n",
        "month = table ['month_number'].tolist()\n",
        "plt.plot(month, profit,'r')\n",
        "plt.xlabel('Month number')\n",
        "plt.ylabel('Profit')\n",
        "plt.xticks(month)\n",
        "plt.title('Profit per month')\n",
        "plt.yticks([100000, 200000, 300000, 400000, 500000])\n",
        "plt.show()"
      ],
      "execution_count": null,
      "outputs": []
    },
    {
      "cell_type": "markdown",
      "metadata": {
        "id": "YgY6HluOahL7"
      },
      "source": [
        "**Read all product sales data and show it using a multi line plot. Display the number of\n",
        "units sold per month for each product using multi line plots. (i.e., Separate Plotline for\n",
        "each product ).The graph should look like this.**"
      ]
    },
    {
      "cell_type": "code",
      "metadata": {
        "id": "Nu5g8Xnpanoq"
      },
      "source": [
        "sb.set_theme(style=\"dark\")\n",
        "table = pd.read_csv('company_sales_data.csv') \n",
        "month = table['month_number'].tolist()\n",
        "faceCream = table ['facecream'].tolist()\n",
        "faceWash = table ['facewash'].tolist()\n",
        "toothPaste = table ['toothpaste'].tolist()\n",
        "bathingsoap = table ['bathingsoap'].tolist()\n",
        "shampoo = table ['shampoo'].tolist()\n",
        "moisturizer = table ['moisturizer'].tolist()\n",
        "\n",
        "plt.plot(month, faceCream,   label = 'Face cream Sales Data', marker='o', linewidth=2)\n",
        "plt.plot(month, faceWash,   label = 'Face Wash Sales Data',  marker='o', linewidth=2)\n",
        "plt.plot(month, toothPaste, label = 'ToothPaste Sales Data', marker='o', linewidth=2)\n",
        "plt.plot(month, bathingsoap, label = 'ToothPaste Sales Data', marker='o', linewidth=2)\n",
        "plt.plot(month, shampoo, label = 'ToothPaste Sales Data', marker='o', linewidth=2)\n",
        "plt.plot(month, moisturizer, label = 'ToothPaste Sales Data', marker='o', linewidth=2)\n",
        "\n",
        "plt.xlabel('Month Number')\n",
        "plt.ylabel('Sales units')\n",
        "plt.legend(loc='upper left')\n",
        "plt.xticks(month)\n",
        "plt.yticks([1000, 2000, 4000, 6000, 8000, 10000, 12000, 15000, 18000])\n",
        "plt.title('Sales data')\n",
        "plt.show()"
      ],
      "execution_count": null,
      "outputs": []
    },
    {
      "cell_type": "markdown",
      "metadata": {
        "id": "WXnfejRK-so_"
      },
      "source": [
        "**Plot a scatter plot between no. of month and toothpaste units sold.**"
      ]
    },
    {
      "cell_type": "code",
      "metadata": {
        "id": "fHOY7dCw-zTO"
      },
      "source": [
        "table = pd.read_csv('company_sales_data.csv') \n",
        "month = table ['month_number'].tolist()\n",
        "toothPaste = table ['toothpaste'].tolist()\n",
        "plt.scatter(month, toothPaste, label = 'Tooth paste sales data ')\n",
        "plt.xlabel('Month Number')\n",
        "plt.ylabel('Number of units Sold')\n",
        "plt.legend(loc='upper left')\n",
        "plt.title(' Tooth paste Sales data')\n",
        "plt.xticks(month)\n",
        "plt.show()"
      ],
      "execution_count": null,
      "outputs": []
    },
    {
      "cell_type": "markdown",
      "metadata": {
        "id": "1QtiJ6_j_UgH"
      },
      "source": [
        "**Add a gridline to the scatter plot.**"
      ]
    },
    {
      "cell_type": "code",
      "metadata": {
        "id": "rVfa3VZC_b9B"
      },
      "source": [
        "table = pd.read_csv('company_sales_data.csv') \n",
        "month = table['month_number'].tolist()\n",
        "faceWash = table['facewash'].tolist()\n",
        "plt.scatter(month,faceWash)\n",
        "plt.xlabel('Month number')\n",
        "plt.ylabel('Number of units Sold')\n",
        "plt.title('Facewash Sales Data')\n",
        "plt.xticks(month)\n",
        "plt.grid(True,linewidth = 1,linestyle = '--')\n",
        "plt.show()"
      ],
      "execution_count": null,
      "outputs": []
    },
    {
      "cell_type": "markdown",
      "metadata": {
        "id": "3Sv1Gttk_r_f"
      },
      "source": [
        "**Plot a bar chart which displays the number of units sold per month for face cream and\n",
        "face wash. Add a separate bar for each product in the same chart.(with grid lines)**"
      ]
    },
    {
      "cell_type": "code",
      "metadata": {
        "id": "a6HJK06b_yxz"
      },
      "source": [
        "import pandas as pd\n",
        "table = pd.read_csv('company_sales_data.csv') \n",
        "month = table ['month_number'].tolist()\n",
        "faceCrem  = table ['facecream'].tolist()\n",
        "faceWash  = table ['facewash'].tolist()\n",
        "\n",
        "plt.bar([a-0.25 for a in monthList], faceCrem, width= 0.25, label = 'Face Cream sales data', align='edge')\n",
        "plt.bar([a+0.25 for a in monthList], faceWash, width= -0.25, label = 'Face Wash sales data', align='edge')\n",
        "plt.xlabel('Month Number')\n",
        "plt.ylabel('Sales units in number')\n",
        "plt.legend(loc='upper left')\n",
        "plt.title(' Sales data')\n",
        "plt.xticks(month)\n",
        "plt.title('Facewash and facecream sales data')\n",
        "plt.show()"
      ],
      "execution_count": null,
      "outputs": []
    },
    {
      "cell_type": "markdown",
      "metadata": {
        "id": "w4HZmonaAOn3"
      },
      "source": [
        "**Plot the total profit of each month and show it using the histogram to see the most\n",
        "common profit ranges**"
      ]
    },
    {
      "cell_type": "code",
      "metadata": {
        "id": "zDGmuwCuASy1"
      },
      "source": [
        "table = pd.read_csv('company_sales_data.csv') \n",
        "\n",
        "profitList = table ['total_profit'].tolist()\n",
        "labels = ['low', 'average', 'Good', 'Best']\n",
        "profit_range = [150000, 175000, 200000, 225000, 250000, 300000, 350000]\n",
        "plt.hist(profitList, profit_range, label = 'Profit data')\n",
        "plt.xlabel('profit range in dollar')\n",
        "plt.ylabel('Actual Profit in dollar')\n",
        "plt.legend(loc='upper left')\n",
        "plt.xticks(profit_range)\n",
        "plt.title('Profit data')\n",
        "plt.show()"
      ],
      "execution_count": null,
      "outputs": []
    },
    {
      "cell_type": "markdown",
      "metadata": {
        "id": "WtiBav4rAqnl"
      },
      "source": [
        "**Plot a pie chart for total sales data.**"
      ]
    },
    {
      "cell_type": "code",
      "metadata": {
        "id": "T9hDnStBAxvk"
      },
      "source": [
        "table = pd.read_csv('company_sales_data.csv') \n",
        "month  = table ['month_number'].tolist()\n",
        "labels = ['FaceCream', 'FaseWash', 'ToothPaste', 'Bathing soap', 'Shampoo', 'Moisturizer']\n",
        "salesData   = [table ['facecream'].sum(), table ['facewash'].sum(), table ['toothpaste'].sum(), \n",
        "         table ['bathingsoap'].sum(), table ['shampoo'].sum(), table ['moisturizer'].sum()]\n",
        "plt.axis(\"equal\")\n",
        "plt.pie(salesData, labels=labels, autopct='%1.1f%%')\n",
        "plt.legend(loc='lower right')\n",
        "plt.title('Sales data')\n",
        "plt.show()"
      ],
      "execution_count": null,
      "outputs": []
    }
  ]
}